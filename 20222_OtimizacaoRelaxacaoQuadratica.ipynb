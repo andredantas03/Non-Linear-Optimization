{
 "cells": [
  {
   "cell_type": "markdown",
   "id": "aae41d03-ec16-4171-8f38-6811b7c24764",
   "metadata": {},
   "source": [
    "# Programa de Pós-Graduação em Engenharia de Teleinformática\n",
    "# Otimização Não-linear de Sistemas\n",
    "# Prof. Tarcisio Ferreira Maciel, Dr.-Ing. (Professor: [maciel@ufc.br](mailto:maciel@ufc.br))\n",
    "---\n",
    "## Identificação do aluno\n",
    "\n",
    "Nome: André Luis Dantas Gadelha\n",
    "\n",
    "Matrícula: 522364\n",
    "\n",
    "---"
   ]
  },
  {
   "cell_type": "markdown",
   "id": "46324da0-9a69-4b5a-9e3f-bb9dca41077e",
   "metadata": {},
   "source": [
    "A correlação espacial $ \\rho_{i,j} $ entre os canais $ \\mathbf{h}_i = \\begin{bmatrix} h_{i,1} & h_{i,2} & \\ldots & h_{i,N} \\end{bmatrix}$ e $ \\mathbf{h}_j = \\begin{bmatrix} h_{j,1} & h_{j,2} & \\ldots & h_{j,N} \\end{bmatrix}$, com $\\mathbf{h}_i, \\mathbf{h}_j \\in \\mathbb{C}^N $ do enlace direto de uma estação rádio base com $ N $ antenas para os terminais móveis $ i, j $ é dada por $ \\rho_{i,j} = \\dfrac{ \\vert \\mathbf{h}_i \\mathbf{h}^H_j \\vert}{ \\Vert \\mathbf{h}_i \\Vert_2 \\Vert \\mathbf{h}_j \\Vert_2 } $. Sabendo que existem $ K $ terminais móveis, selecione $ G \\leq N $ terminais móveis tal que a soma das correlações entre eles dois-a-dois seja mínima, ou seja, selecione os $ G $ terminais móveis com os canais menos correlacionados. Esse problema pode ser formulado como segue: %\n",
    "$$\n",
    "\\begin{align}\n",
    "    \\mathbf{x}^\\star = \\underset{ \\mathbf{x} }{ \\text{minimize} } \\quad & \\frac{1}{2}\\mathbf{x}^T \\mathbf{R} \\mathbf{x}, \\\\\n",
    "    \\text{sujeito a} \\quad & \\boldsymbol{1}^T\\mathbf{x} = G, \\\\\n",
    "    & \\mathbf{x} \\in \\mathbb{B}^K,\n",
    "\\end{align}\n",
    "$$\n",
    "onde $ \\mathbf{R} = {[\\rho_{i,j}]}_{i,j}, \\quad i, j \\in  \\{1, 2, \\ldots, K\\} $. Este problema é um **problema de otimização binário quadrático**: função custo quadrática com variáveis de otimização binárias.\n",
    "\n",
    "O problema acima pode ser simplificado se as variáveis em $\\mathbf{x}$ forem relaxadas gerando $ \\tilde{\\mathbf{x}} \\in \\mathbb{R}^N $ e $\\boldsymbol{0} \\leq \\tilde{\\mathbf{x}} \\leq \\boldsymbol{1} $. Mesmo assim, o problema acima pode ainda será NP-difícil se a matriz $ \\mathbf{R} \\not \\succcurlyeq \\boldsymbol{0} $, i.e., se a matriz $ \\mathbf{R} $ não for positiva semidefinida.\n",
    "\n",
    "De acordo com a construção acima, sabe-se que $ \\mathbf{R} $ não é necessariamente positiva semidefinida. Isso pode ser demonstrado gerando-se várias instâncias dessa matriz a partir de canais para $K$ usuários e mostrando a distribuição de seus autovalores. Será possível observar que para algumas instâncias, haverá a ocorrência de autovalores negativos."
   ]
  },
  {
   "cell_type": "code",
   "execution_count": 1,
   "id": "670f3102-f4d2-4456-b624-e93db43ed339",
   "metadata": {},
   "outputs": [
    {
     "name": "stdout",
     "output_type": "stream",
     "text": [
      "Mínimo autovalor de R: -0.2361716022125053\n"
     ]
    }
   ],
   "source": [
    "# Importa a biblioteca numpy\n",
    "import numpy as np\n",
    "# Configura o número de casas decimais impressas para arrarys numpy\n",
    "np.set_printoptions(precision=3)\n",
    "\n",
    "# Número de usuários\n",
    "K = 16\n",
    "# Número de antenas na ERB\n",
    "N = 8\n",
    "# Numero de usuários no grupo\n",
    "G = 5\n",
    "# Gera os canais Rayleigh 1 x N descorrelacionados para os K usuários criando-se a matriz H com todos os canais destes usuários empilhados, um por linha\n",
    "H = np.random.randn(K, N)*np.sqrt(0.5) + 1j*np.random.randn(K, N)*np.sqrt(0.5)\n",
    "\n",
    "# Gera um simples exemplo de que a matriz R não é positiva semidefinida\n",
    "R = np.abs(H @ np.transpose(np.conjugate(H)))\n",
    "D = np.linalg.inv(np.diag(np.sqrt(np.diag(R))))\n",
    "R = D @ R @ D\n",
    "print('Mínimo autovalor de R:', np.min(np.linalg.eigvals(R)))"
   ]
  },
  {
   "cell_type": "markdown",
   "id": "30614b84-a5b7-48b4-875f-d81be1154f57",
   "metadata": {},
   "source": [
    "Com base no código acima, **gere e plote a distribuição do menor autovalor $\\lambda_{min}$ da matriz $\\mathbf{R}$ para o cenário configurado acima.**\n",
    "\n",
    "Uma forma de convexificar o problema apresentado é regularizar a matriz $\\mathbf{R}$ gerando uma matriz $\\tilde{\\mathbf{R}}$ positiva semidefinida. Naturalmente, o problema assim gerado é apenas uma aproximação para o problema original, ou seja, teríamos\n",
    "$$\n",
    "\\begin{align}\n",
    "    \\tilde{\\mathbf{x}}^\\star = \\underset{ \\tilde{\\mathbf{x}} }{ \\text{minimize} } \\quad & \\frac{1}{2}\\tilde{\\mathbf{x}}^T \\tilde{\\mathbf{R}} \\tilde{\\mathbf{x}}, \\\\\n",
    "    \\text{sujeito a} \\quad & \\boldsymbol{1}^T\\tilde{\\mathbf{x}} = G, \\\\\n",
    "    & \\boldsymbol{0} \\leq \\tilde{\\mathbf{x}} \\leq \\boldsymbol{1}.\n",
    "\\end{align}\n",
    "$$\n",
    "\n",
    "Considerando o problema relaxado e convexificado acima, podemos obter uma solução aproximada para o problema original arrendondando para 1 as $G$ maiores componentes de $\\tilde{\\mathbf{x}}$.\n",
    "\n",
    "Com base nisso, **convexifique o problema original utilizando uma regularização adequada para $\\mathbf{R}$ e solucione o problema original através do problema aproximado.**\n",
    "\n",
    "**Compare a capacidade de canal do grupo de $G$ usuários assim selecionado contra a capacidade de canal do grupo de $G$ de usuários ótimo**. Em ambos os casos, considere a aplicação de **formatação de feixes com forçagem a zero (ZF).** O grupo ótimo pode ser determinado por busca exaustiva entre todas as combinações de $K$ usuários $G$-a-$G$.\n",
    "\n",
    "**Varia o tamanho $G$ do grupo de 1 a N e avalie a capacidade ótima (busca exaustiva) e a capacidade subótima (convexificação do problema).**\n",
    "\n",
    "**Para todas as análises, utilize simulações de Monte-Carlo com no mínimo 1000 realizações.**"
   ]
  },
  {
   "cell_type": "markdown",
   "id": "ae3d3a3e-1772-492a-a7a7-bb4fa574604b",
   "metadata": {},
   "source": [
    "# Referências\n",
    "\n",
    "[1] A convex quadratic SDMA grouping algorithm based on spatial correlation. In: IEEE International Conference on Communications, 2007, Glasgow. Proc. of the IEEE International Conference on Communications, 2007. v. 1. p. 5342-5346. [https://doi.org/10.1109/ICC.2007.884](https://doi.org/10.1109/ICC.2007.884)"
   ]
  },
  {
   "cell_type": "markdown",
   "id": "56e360e6",
   "metadata": {},
   "source": [
    "### Resolução:\n",
    "Primeiramente devemos gerar a distribuição dos menores autovalores do problema, podemos fazer isso gerando um experimento aleátoria com uma amostra de 1000 matrizes R:"
   ]
  },
  {
   "cell_type": "code",
   "execution_count": 2,
   "id": "7c1d8111",
   "metadata": {},
   "outputs": [],
   "source": [
    "import numpy as np\n",
    "import matplotlib.pyplot as plt\n",
    "import cvxpy as cp\n",
    "from itertools import combinations as comb\n",
    "import pandas as pd\n",
    "import matplotlib.pyplot as plt\n",
    "from scipy.stats import skew,kurtosis\n",
    "\n",
    "# Configura o número de casas decimais impressas para arrarys numpy\n",
    "np.set_printoptions(precision=3)\n",
    "\n",
    "# Número de usuários\n",
    "K = 16\n",
    "# Número de antenas na ERB\n",
    "N = 8\n",
    "# Numero de usuários no grupo\n",
    "G = 5\n",
    "# Gera os canais Rayleigh 1 x N descorrelacionados para os K usuários criando-se a matriz H com todos os canais destes\n",
    "#usuários empilhados, um por linha"
   ]
  },
  {
   "cell_type": "code",
   "execution_count": 3,
   "id": "9c68b6f4",
   "metadata": {},
   "outputs": [],
   "source": [
    "min_eig_val = np.zeros(1000)\n",
    "for i in range(1000):\n",
    "    H = np.random.randn(K, N)*np.sqrt(0.5) + 1j*np.random.randn(K, N)*np.sqrt(0.5)\n",
    "    # Gera um simples exemplo de que a matriz R não é positiva semidefinida\n",
    "    R = np.abs(H @ np.transpose(np.conjugate(H)))\n",
    "    D = np.linalg.inv(np.diag(np.sqrt(np.diag(R))))\n",
    "    R = D @ R @ D\n",
    "    min_eig_val[i]=(np.min(np.linalg.eigvals(R)))"
   ]
  },
  {
   "cell_type": "code",
   "execution_count": 4,
   "id": "c1a334cc",
   "metadata": {},
   "outputs": [
    {
     "data": {
      "image/png": "[encoded data removed]",
      "text/plain": [
       "<Figure size 600x400 with 1 Axes>"
      ]
     },
     "metadata": {
      "needs_background": "light"
     },
     "output_type": "display_data"
    }
   ],
   "source": [
    "fig1, ax = plt.subplots(figsize=(6, 4), dpi=100)\n",
    "plt.hist(min_eig_val, bins='auto',label='Eig Values')\n",
    "ax.legend()\n",
    "ax.set_title('Histograma dos autovalores')\n",
    "ax.set_xlabel('Eig Values',fontsize=14);\n"
   ]
  },
  {
   "cell_type": "markdown",
   "id": "c731495e",
   "metadata": {},
   "source": [
    "#### Parte 2:\n",
    "convexificando o problema original utilizando uma regularização adequada para $\\mathbf{R}$.</p>\n",
    "Sabemos que para transformar uma matriz qualquer em semipositiva definida devemos somar a diagonal principal o valor do menor autovalor negativo, se presente. Na expressão das restrições foi feita a relaxação em x."
   ]
  },
  {
   "cell_type": "code",
   "execution_count": 5,
   "id": "a5a974e1",
   "metadata": {},
   "outputs": [],
   "source": [
    "# Gera um simples exemplo de que a matriz R não é positiva semidefinida\n",
    "\n",
    "R = np.abs(H @ np.transpose(np.conjugate(H)))\n",
    "N = np.linalg.inv(np.diag(np.sqrt(np.diag(R))))\n",
    "R = N @ R @ N\n",
    "min_eig_val=(np.min(np.linalg.eigvals(R)))\n",
    "\n",
    "#Tratando a matriz para torna-la Semi Positiva definida\n",
    "R_ = R+abs(min_eig_val)*np.identity(R.shape[0])"
   ]
  },
  {
   "cell_type": "markdown",
   "id": "86c133dc",
   "metadata": {},
   "source": [
    "#### Parte 3:\n",
    "Considerando este cenário, o problema de agrupamento SDMA corresponde à construção de um grupo G contendo um número total de canais vetoriais G ≤ N selecionados de forma otimizada entre todos os K os existentes no setor, ou seja, para selecionar de forma otimizada G linhas de H. De posse do vetor solução, que são os indices de G maiores probabilidades de X, é possivel produzir a Matriz **G** do problema, ou seja, $G=H[x^*,:]$. Usando a referencia do enunciado, sabemos que a capacidade de um grupo SDMA é: $$ Capacity = \\log_2 (\\det ( \\mathit{I} + \\sigma^{-2}_n \\boldsymbol{DGM(DGM)^H}))) $$\n",
    "onde $\\boldsymbol{D}$ é a matriz identidade e M é dado por: $$M = \\frac{\\sqrt{P}\\boldsymbol{G^H(GG^H)}^{-1}}{|| \\boldsymbol{G^H(GG^H)}^{-1}||_F}$$\n",
    "assumindo: P=1 e $\\sigma = 1$\n"
   ]
  },
  {
   "cell_type": "code",
   "execution_count": 7,
   "id": "26a5a8ec",
   "metadata": {},
   "outputs": [],
   "source": [
    "#Hessiana\n",
    "def hessiana(Mat):\n",
    "    return np.transpose(np.conjugate(Mat))"
   ]
  },
  {
   "cell_type": "code",
   "execution_count": 8,
   "id": "224f69d5",
   "metadata": {},
   "outputs": [],
   "source": [
    "def capacity(H,sol):\n",
    "    #Calculando a matrix G\n",
    "    G_mat = H[sol,:]\n",
    "\n",
    "    #Calculando a hessiana de G\n",
    "    G_hes = hessiana(G_mat)\n",
    "\n",
    "    #calculando M\n",
    "    G_inv = np.linalg.inv(G_mat@G_hes)\n",
    "    norma_pseud_G = np.linalg.norm(G_hes@G_inv)\n",
    "    M = (G_hes@G_inv)/norma_pseud_G\n",
    "\n",
    "    #capacidade de G:\n",
    "    Capacity = np.abs(np.log2(np.linalg.det(np.identity(G)+ (G_mat@M) @ hessiana(G_mat@M))))\n",
    "    return Capacity"
   ]
  },
  {
   "cell_type": "code",
   "execution_count": 9,
   "id": "4982e66b",
   "metadata": {},
   "outputs": [],
   "source": [
    "def conv_sol(G,R_):\n",
    "    x = cp.Variable((K, 1))\n",
    "    constrains = [x>=0,x<=1,sum(x)==G]\n",
    "    prob = cp.Problem(cp.Minimize(cp.quad_form(x,R_)),constrains)\n",
    "    result = prob.solve()\n",
    "    # Conjunto dos indices de maior Probabilidade para a solução aproximada pela sugestão do enunciado\n",
    "    sol_aprox = list(x.value.reshape(K).argpartition(-G)[-G:])\n",
    "\n",
    "    cap_aprox = capacity(H,sol_aprox)\n",
    "    return cap_aprox"
   ]
  },
  {
   "cell_type": "code",
   "execution_count": 10,
   "id": "7d2022bd",
   "metadata": {},
   "outputs": [],
   "source": [
    "def opt_sol(G,R):\n",
    "    #\n",
    "    # Calculando valor otimo por busca exaustiva\n",
    "    #\n",
    "\n",
    "    #Conjunto de todas as combinações possives em x de G-G:\n",
    "    conj_G = [i for i in comb(range(K),G)]\n",
    "    sol_otima = 100000000\n",
    "    x_ = np.zeros([K,1])\n",
    "    x_otimo = np.zeros([K,1])\n",
    "\n",
    "    #Iterando sobre todas as combinações possiveis de x\n",
    "    for j in conj_G:\n",
    "        j=list(j)\n",
    "        x_ = np.zeros([K,1])\n",
    "        x_[j]=1\n",
    "        #Variavel sol recebe o valor da função objetivo usando o R sem relaxação\n",
    "        sol = x_.reshape([K,1]).T@R@x_.reshape([K,1])\n",
    "\n",
    "        #avaliando a solução\n",
    "        if sol < sol_otima:\n",
    "            sol_otima = x_.reshape([K,1]).T@R@x_.reshape([K,1])\n",
    "            x_otimo = x_\n",
    "\n",
    "    sol_otimo = x_otimo.ravel().reshape(K).argpartition(-G)[-G:]\n",
    "\n",
    "    cap_otima = capacity(H,sol_otimo)\n",
    "    \n",
    "    return cap_otima"
   ]
  },
  {
   "cell_type": "code",
   "execution_count": 12,
   "id": "9143a0a4",
   "metadata": {},
   "outputs": [],
   "source": [
    "#\n",
    "# Comparando os resultados da convexificação para uma simulação com 1000 matrizes\n",
    "#\n",
    "N=8\n",
    "result = []\n",
    "for i_ in range(1000):\n",
    "    H = np.random.randn(K, N)*np.sqrt(0.5) + 1j*np.random.randn(K, N)*np.sqrt(0.5)\n",
    "    # Gera um simples exemplo de que a matriz R não é positiva semidefinida\n",
    "    R = np.abs(H @ np.transpose(np.conjugate(H)))\n",
    "    N_ = np.linalg.inv(np.diag(np.sqrt(np.diag(R))))\n",
    "    R = N_ @ R @ N_\n",
    "    min_eig_val=(np.min(np.linalg.eigvals(R)))\n",
    "\n",
    "    #Tratando a matriz para torna-la Semi Positiva definida\n",
    "    R_ = R+abs(min_eig_val)*np.identity(R.shape[0])\n",
    "    \n",
    "    #Traçando perfil do resultado associado\n",
    "    G=5\n",
    "    \n",
    "    result.append([opt_sol(G,R),conv_sol(G,R_)])\n",
    "result = np.array(result)    "
   ]
  },
  {
   "cell_type": "code",
   "execution_count": 13,
   "id": "2a022042",
   "metadata": {},
   "outputs": [
    {
     "ename": "NameError",
     "evalue": "name 'erro_mse' is not defined",
     "output_type": "error",
     "traceback": [
      "\u001b[1;31m---------------------------------------------------------------------------\u001b[0m",
      "\u001b[1;31mNameError\u001b[0m                                 Traceback (most recent call last)",
      "Input \u001b[1;32mIn [13]\u001b[0m, in \u001b[0;36m<cell line: 6>\u001b[1;34m()\u001b[0m\n\u001b[0;32m      1\u001b[0m \u001b[38;5;66;03m#\u001b[39;00m\n\u001b[0;32m      2\u001b[0m \u001b[38;5;66;03m# Fazendo uma analise da distribuição do erro medio absoluto\u001b[39;00m\n\u001b[0;32m      3\u001b[0m \u001b[38;5;66;03m#\u001b[39;00m\n\u001b[0;32m      5\u001b[0m erromse \u001b[38;5;241m=\u001b[39m \u001b[38;5;28msum\u001b[39m(\u001b[38;5;28mabs\u001b[39m(result[:,\u001b[38;5;241m1\u001b[39m]\u001b[38;5;241m-\u001b[39mresult[:,\u001b[38;5;241m0\u001b[39m]))\u001b[38;5;241m/\u001b[39mresult\u001b[38;5;241m.\u001b[39mshape[\u001b[38;5;241m0\u001b[39m]\n\u001b[1;32m----> 6\u001b[0m \u001b[38;5;28mprint\u001b[39m(\u001b[38;5;124mf\u001b[39m\u001b[38;5;124m\"\u001b[39m\u001b[38;5;124mErro médio absoluto (MSE): %.4f\u001b[39m\u001b[38;5;124m\"\u001b[39m\u001b[38;5;241m%\u001b[39m\u001b[43merro_mse\u001b[49m)\n\u001b[0;32m      7\u001b[0m erro_mse \u001b[38;5;241m=\u001b[39m result[:,\u001b[38;5;241m1\u001b[39m]\u001b[38;5;241m-\u001b[39mresult[:,\u001b[38;5;241m0\u001b[39m]\n\u001b[0;32m      8\u001b[0m std_erro \u001b[38;5;241m=\u001b[39m np\u001b[38;5;241m.\u001b[39mstd(\u001b[38;5;28mabs\u001b[39m(erro_mse))\n",
      "\u001b[1;31mNameError\u001b[0m: name 'erro_mse' is not defined"
     ]
    }
   ],
   "source": [
    "#\n",
    "# Fazendo uma analise da distribuição do erro medio absoluto\n",
    "#\n",
    "\n",
    "erromse = sum(abs(result[:,1]-result[:,0]))/result.shape[0]\n",
    "print(f\"Erro médio absoluto (MSE): %.4f\"%erromse)\n",
    "erro_mse = result[:,1]-result[:,0]\n",
    "std_erro = np.std(abs(erro_mse))\n",
    "print(f\"Desvio Padrão do erro: %.4f\"%std_erro)\n",
    "plt.hist(erro_mse,bins=20);\n",
    "skew_erro = skew(erro_mse)\n",
    "print(f\"Skewness do erro: %.4f\"%skew_erro)\n",
    "kurt_erro = kurtosis(erro_mse)\n",
    "print(f\"kurtosis do erro: %.4f\"%kurt_erro)\n"
   ]
  },
  {
   "cell_type": "markdown",
   "id": "efe64286",
   "metadata": {},
   "source": [
    "### Considerações:\n",
    "Considerando as estatisticas obtidas, é possível ver que a distribuição não é simetrica, com mais valores à esquerda, indicando que há uma alta probabilidade do modelo convexificado ter valores maiores de capacidade do que o modelo otimo, porém como o erro é baixo, leva-se em consideração que mesmo errando pouco é possível confiar numa baixa diferença entre modelos convexificados e otimos, principalmente para  problemas envolvendo mais clientes."
   ]
  },
  {
   "cell_type": "markdown",
   "id": "e4422c2c",
   "metadata": {},
   "source": [
    "### Parte 4: Variando G de 1 ate N:\n",
    "para essa parte do trabalho devemos estabelecer uma tabela para fazermos as análises:"
   ]
  },
  {
   "cell_type": "code",
   "execution_count": 14,
   "id": "8463c072",
   "metadata": {},
   "outputs": [],
   "source": [
    "comp_result = []\n",
    "for g in range(1,N+1):\n",
    "    result = []\n",
    "    for i_ in range(1000):\n",
    "        H = np.random.randn(K, N)*np.sqrt(0.5) + 1j*np.random.randn(K, N)*np.sqrt(0.5)\n",
    "        # Gera um simples exemplo de que a matriz R não é positiva semidefinida\n",
    "        R = np.abs(H @ np.transpose(np.conjugate(H)))\n",
    "        N_ = np.linalg.inv(np.diag(np.sqrt(np.diag(R))))\n",
    "        R = N_ @ R @ N_\n",
    "        min_eig_val=(np.min(np.linalg.eigvals(R)))\n",
    "\n",
    "        #Tratando a matriz para torna-la Semi Positiva definida\n",
    "        R_ = R+abs(min_eig_val)*np.identity(R.shape[0])\n",
    "\n",
    "        #Traçando perfil do resultado associado\n",
    "        G=g\n",
    "\n",
    "        result.append([opt_sol(G,R),conv_sol(G,R_),g])\n",
    "    result = np.array(result)\n",
    "    media_opt = np.mean(result[:,0])\n",
    "    media_conv = np.mean(result[:,1])\n",
    "    erromse = sum(abs(result[:,1]-result[:,0]))/result.shape[0]\n",
    "    erro_mse = result[:,1]-result[:,0]\n",
    "    std_erro = np.std(abs(erro_mse))\n",
    "    skew_erro = skew(erro_mse)\n",
    "    kurt_erro = kurtosis(erro_mse)\n",
    "    comp_result.append([erromse,std_erro,skew_erro,kurt_erro,media_opt,media_conv])\n"
   ]
  },
  {
   "cell_type": "code",
   "execution_count": 15,
   "id": "df3dd1e9",
   "metadata": {},
   "outputs": [
    {
     "data": {
      "text/html": [
       "<div>\n",
       "<style scoped>\n",
       "    .dataframe tbody tr th:only-of-type {\n",
       "        vertical-align: middle;\n",
       "    }\n",
       "\n",
       "    .dataframe tbody tr th {\n",
       "        vertical-align: top;\n",
       "    }\n",
       "\n",
       "    .dataframe thead th {\n",
       "        text-align: right;\n",
       "    }\n",
       "</style>\n",
       "<table border=\"1\" class=\"dataframe\">\n",
       "  <thead>\n",
       "    <tr style=\"text-align: right;\">\n",
       "      <th></th>\n",
       "      <th>MSE</th>\n",
       "      <th>STD</th>\n",
       "      <th>Skewness</th>\n",
       "      <th>Kurtosis</th>\n",
       "      <th>media_opt</th>\n",
       "      <th>media_conv</th>\n",
       "    </tr>\n",
       "  </thead>\n",
       "  <tbody>\n",
       "    <tr>\n",
       "      <th>1</th>\n",
       "      <td>0.479718</td>\n",
       "      <td>0.407897</td>\n",
       "      <td>0.014690</td>\n",
       "      <td>0.251225</td>\n",
       "      <td>3.040136</td>\n",
       "      <td>3.086761</td>\n",
       "    </tr>\n",
       "    <tr>\n",
       "      <th>2</th>\n",
       "      <td>0.550565</td>\n",
       "      <td>0.491158</td>\n",
       "      <td>-0.113042</td>\n",
       "      <td>0.796629</td>\n",
       "      <td>4.453195</td>\n",
       "      <td>4.375198</td>\n",
       "    </tr>\n",
       "    <tr>\n",
       "      <th>3</th>\n",
       "      <td>0.486210</td>\n",
       "      <td>0.476565</td>\n",
       "      <td>-0.215752</td>\n",
       "      <td>0.992518</td>\n",
       "      <td>5.260684</td>\n",
       "      <td>5.124885</td>\n",
       "    </tr>\n",
       "    <tr>\n",
       "      <th>4</th>\n",
       "      <td>0.418002</td>\n",
       "      <td>0.473905</td>\n",
       "      <td>-0.514932</td>\n",
       "      <td>2.094707</td>\n",
       "      <td>5.609696</td>\n",
       "      <td>5.410944</td>\n",
       "    </tr>\n",
       "    <tr>\n",
       "      <th>5</th>\n",
       "      <td>0.415944</td>\n",
       "      <td>0.503712</td>\n",
       "      <td>-0.738078</td>\n",
       "      <td>2.137496</td>\n",
       "      <td>5.585967</td>\n",
       "      <td>5.348135</td>\n",
       "    </tr>\n",
       "    <tr>\n",
       "      <th>6</th>\n",
       "      <td>0.441430</td>\n",
       "      <td>0.605974</td>\n",
       "      <td>-0.930849</td>\n",
       "      <td>4.116365</td>\n",
       "      <td>4.935282</td>\n",
       "      <td>4.721165</td>\n",
       "    </tr>\n",
       "    <tr>\n",
       "      <th>7</th>\n",
       "      <td>0.585306</td>\n",
       "      <td>0.801163</td>\n",
       "      <td>-0.535160</td>\n",
       "      <td>3.157485</td>\n",
       "      <td>3.617005</td>\n",
       "      <td>3.427244</td>\n",
       "    </tr>\n",
       "    <tr>\n",
       "      <th>8</th>\n",
       "      <td>0.566460</td>\n",
       "      <td>0.758425</td>\n",
       "      <td>0.080640</td>\n",
       "      <td>2.423338</td>\n",
       "      <td>1.739304</td>\n",
       "      <td>1.691843</td>\n",
       "    </tr>\n",
       "  </tbody>\n",
       "</table>\n",
       "</div>"
      ],
      "text/plain": [
       "        MSE       STD  Skewness  Kurtosis  media_opt  media_conv\n",
       "1  0.479718  0.407897  0.014690  0.251225   3.040136    3.086761\n",
       "2  0.550565  0.491158 -0.113042  0.796629   4.453195    4.375198\n",
       "3  0.486210  0.476565 -0.215752  0.992518   5.260684    5.124885\n",
       "4  0.418002  0.473905 -0.514932  2.094707   5.609696    5.410944\n",
       "5  0.415944  0.503712 -0.738078  2.137496   5.585967    5.348135\n",
       "6  0.441430  0.605974 -0.930849  4.116365   4.935282    4.721165\n",
       "7  0.585306  0.801163 -0.535160  3.157485   3.617005    3.427244\n",
       "8  0.566460  0.758425  0.080640  2.423338   1.739304    1.691843"
      ]
     },
     "execution_count": 15,
     "metadata": {},
     "output_type": "execute_result"
    }
   ],
   "source": [
    "data = pd.DataFrame(comp_result,columns = ['MSE','STD','Skewness','Kurtosis','media_opt','media_conv'])\n",
    "G_ = range(1,N+1)\n",
    "data.index = G_\n",
    "data"
   ]
  },
  {
   "cell_type": "code",
   "execution_count": 25,
   "id": "9f8c3836",
   "metadata": {},
   "outputs": [
    {
     "data": {
      "image/png": "[encoded data removed]",
      "text/plain": [
       "<Figure size 600x400 with 1 Axes>"
      ]
     },
     "metadata": {
      "needs_background": "light"
     },
     "output_type": "display_data"
    }
   ],
   "source": [
    "fig0, ax = plt.subplots(figsize=(6, 4), dpi=100)\n",
    "data['media_opt'].plot(label='Media das Soluções otimas')\n",
    "data['media_conv'].plot(label='Media das Soluções convexificadas')\n",
    "ax.grid()\n",
    "ax.legend(bbox_to_anchor=(1.87, 1.025))\n",
    "ax.set_title('Curva de variação da capacidade com G variando de 1 ate N=8')\n",
    "ax.set_xlabel('G')\n",
    "ax.set_ylabel('Capacity');"
   ]
  },
  {
   "cell_type": "markdown",
   "id": "be681fce",
   "metadata": {},
   "source": [
    "### Considerações:\n",
    "Para todos os valores de de G o erro permaneceu baixo, indicando uma boa acuracia da convexificação, para valores maiores de G podemos observar um crescimento do valor da Kurtosis, indicando uma maior assimetria da distribuição, o que gera instabilidade na confiança do modelo."
   ]
  },
  {
   "cell_type": "code",
   "execution_count": null,
   "id": "caf0db2f",
   "metadata": {},
   "outputs": [],
   "source": [
    "fig0, ax = plt.subplots(figsize=(6, 4), dpi=100)"
   ]
  }
 ],
 "metadata": {
  "kernelspec": {
   "display_name": "Python 3 (ipykernel)",
   "language": "python",
   "name": "python3"
  },
  "language_info": {
   "codemirror_mode": {
    "name": "ipython",
    "version": 3
   },
   "file_extension": ".py",
   "mimetype": "text/x-python",
   "name": "python",
   "nbconvert_exporter": "python",
   "pygments_lexer": "ipython3",
   "version": "3.9.12"
  }
 },
 "nbformat": 4,
 "nbformat_minor": 5
}
