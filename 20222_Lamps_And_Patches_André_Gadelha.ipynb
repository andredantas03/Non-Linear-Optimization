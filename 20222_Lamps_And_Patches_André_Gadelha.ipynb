{
 "cells": [
  {
   "cell_type": "code",
   "execution_count": null,
   "id": "e9808f29",
   "metadata": {},
   "outputs": [],
   "source": [
    "%plot inline -w 640"
   ]
  },
  {
   "cell_type": "markdown",
   "id": "27103e7e",
   "metadata": {},
   "source": [
    "# Nonlinear optimization - 2022.2\n",
    "\n",
    "## Optimum power for a set of $m$ lamps illuminating a set of $n$ flat patches to best approach a target illumination\n",
    "\n",
    "Consider $m$ lamps illuminating $n$ (small flat) patches. The illumination intensity $I_k$ at the $k$-th patch depends linearly on the lamp powers $p_j$ as:\n",
    "$$\n",
    "I_k = \\sum\\limits_{j=1}^m a_{k,j}p_j, \\quad \\text{with} \\quad a_{k,j} = r^{-2}_{k,j}\\max\\{\\cos(\\theta_{k,j}, 0\\},\n",
    "$$\n",
    "where $r_{k,j}$ is the length of the vector $\\mathbf{r}_{k,j}$ connecting the center of the $k$-th patch to the position of the $m$-th lamp and $\\theta_{k,j}$ is the angle between the patch normal vector $\\mathbf{n}_{k}$ and $\\mathbf{r}_{k,j}$. See the Convex Optimization book slides for more details.\n",
    "\n",
    "The proposed problem is to achieve a desired illumination $I_{des}$ with bounded lamp powers ($p_{max}$), i.e.,\n",
    "$$\n",
    "\\begin{align*}\n",
    "    & \\min. \\underset{k=1, 2, \\ldots, n}{\\max}\\vert \\log(I_k) - \\log(I_{des})\\vert \\\\\n",
    "    \\text{s. t.}\\quad & 0 \\leq p_j \\leq p_{max}, j = 1, 2, \\ldots, m.\n",
    "\\end{align*}\n",
    "$$\n"
   ]
  },
  {
   "cell_type": "markdown",
   "id": "5ce512fd",
   "metadata": {},
   "source": [
    "### Suboptimally solve the problem using, e.g., Matlab, according to the following approaches:\n",
    "\n",
    "1. Using uniform power, i.e., $p_j = p, 0 \\leq p \\leq p_{max}$.\n",
    "2. Using least-squares, i.e., $ \\min. \\sum\\limits_{k=1}^n (I_k - I_{des})^2$, and rounding $p_j$ as $p_j = \\max\\{0, \\min\\{p_j, p_{max}\\}\\}$.\n",
    "3. Using weighted least-squares, i.e., $ \\min. \\sum\\limits_{k=1}^n (I_k - I_{des})^2 + \\sum\\limits_{k=1}^n w_j (p_j - p_{max}/2)^2$ and iteratively adjusting the weights $w_j$ until $0 \\leq p \\leq p_{max}, \\forall j$.\n",
    "4. Using linear programming, i.e., \n",
    "$$\n",
    "\\begin{align*}\n",
    "    & \\min. \\underset{k=1, 2, \\ldots, n}{\\max}\\vert I_k - I_{des}\\vert \\\\\n",
    "    \\text{s. t.}\\quad & 0 \\leq p_j \\leq p_{max}, j = 1, 2, \\ldots, m.\n",
    "\\end{align*}\n",
    "$$"
   ]
  },
  {
   "cell_type": "markdown",
   "id": "ddd544f6",
   "metadata": {},
   "source": [
    "### Solve the problem optimally using convex optimization\n",
    "\n",
    "For this goal, consider the equivalent convex problem\n",
    "$$\n",
    "\\begin{align*}\n",
    "    & \\min. \\underset{k=1, 2, \\ldots, n}{\\max}h(I_k/I_{des}) \\\\\n",
    "    \\text{s. t.}\\quad & 0 \\leq p_j \\leq p_{max}, j = 1, 2, \\ldots, m,\n",
    "\\end{align*}\n",
    "$$\n",
    "where $h(u) = \\max\\{u, 1/u\\}$.\n"
   ]
  },
  {
   "cell_type": "code",
   "execution_count": 1,
   "id": "ec302c89",
   "metadata": {},
   "outputs": [],
   "source": [
    "import numpy as np\n",
    "import matplotlib.pyplot as plt\n",
    "from scipy.linalg import null_space\n",
    "import cvxpy as cp\n",
    "import pandas as pd\n",
    "\n",
    "#Dados ja constantes no problema\n",
    "showFig = True;\n",
    "numLamps = 4;\n",
    "numPatches = 5;\n",
    "maxPwr = 1;\n",
    "desiredillum = 0.01;\n",
    "\n",
    "b = desiredillum*np.ones((numPatches, 1))\n",
    "#b = np.array([[0.022,0.132,0.015,0.04,0.03]])\n",
    "\n",
    "lampPos = np.matrix([[0.6838, 7.8976], [3.1835, 7.0690], [5.5327, 6.6806], [6.1963, 6.5203]]).view(complex)\n",
    "patchPos = np.matrix([[0.0762, 2.8621], [1.4506, 2.8733],[ 2.5122, 2.5864], [4.2246, 3.5846],[ 5.3512, 2.1960], [6.3013, 2.9838]]).view(complex)\n",
    "\n",
    "pos_center_patch = np.zeros((numPatches, 1), dtype=complex)\n",
    "\n",
    "for i in range(1, numPatches+1):\n",
    "    pos_center_patch[i-1].real = 0.5*(patchPos[i-1].real +  patchPos[i].real)\n",
    "    pos_center_patch[i-1].imag = 0.5*(patchPos[i-1].imag +  patchPos[i].imag)\n",
    "    \n",
    "patchNorm = patchPos[1:] - patchPos[0:-1]\n",
    "minPatchLength = min(np.linalg.norm(patchNorm,axis=1))/2\n",
    "\n",
    "for p in range(len(patchNorm)):\n",
    "    n = null_space([[patchNorm[p].real[0,0] , patchNorm[p].imag[0,0]]]);\n",
    "    patchNorm[p] = minPatchLength*complex(n[0,0],n[1,0])\n",
    "\n",
    "radDist = np.zeros([len(pos_center_patch), len(lampPos)]);\n",
    "angShift = np.zeros([len(pos_center_patch), len(lampPos)]);\n",
    "for i in range(len(pos_center_patch)):\n",
    "    for j in range(len(lampPos)):\n",
    "        radDist[i, j] = np.linalg.norm(pos_center_patch[i] - lampPos[j]);\n",
    "        angShift[i, j] = np.angle(lampPos[j]-pos_center_patch[i])-np.angle(patchNorm[i]);\n",
    "\n",
    "illumCoeff = radDist**(-2)*np.maximum(np.cos(angShift), 0);"
   ]
  },
  {
   "cell_type": "code",
   "execution_count": 2,
   "id": "486f1e6a",
   "metadata": {},
   "outputs": [
    {
     "data": {
      "image/png": "[encoded data removed]",
      "text/plain": [
       "<Figure size 600x400 with 1 Axes>"
      ]
     },
     "metadata": {
      "needs_background": "light"
     },
     "output_type": "display_data"
    }
   ],
   "source": [
    "fig0, ax = plt.subplots(figsize=(6, 4), dpi=100)\n",
    "ax.plot(lampPos.real, lampPos.imag, 'xC1', label='Lamps')\n",
    "ax.plot(patchPos.real, patchPos.imag, 'y-', label='Patches')\n",
    "ax.plot(pos_center_patch.real, pos_center_patch.imag, 'b.', label='Ponto metade')\n",
    "ax.grid()\n",
    "ax.legend(bbox_to_anchor=(1.37, 1.025))\n",
    "ax.set_title('Distribuição de Lamps and Patches')\n",
    "ax.set_xlabel('x')\n",
    "ax.set_ylabel('y')\n",
    "plt.show()"
   ]
  },
  {
   "cell_type": "markdown",
   "id": "5ea0e5b3",
   "metadata": {},
   "source": [
    "### Formulações propostas:\n",
    "O problema consiste em minimizar p para o patch que está recebendo mais luz, com o intuito de  minimizar p para maximizar a iluminação de todos os patches."
   ]
  },
  {
   "cell_type": "code",
   "execution_count": 3,
   "id": "1495a146",
   "metadata": {},
   "outputs": [],
   "source": [
    "# Objective function\n",
    "def obj_function(power, illumCoeff, b):\n",
    "    \n",
    "    if np.isscalar(power):\n",
    "        # Constroi o vetor para o caso de p constante\n",
    "        num_lamps = illumCoeff.shape[1]\n",
    "        vt_p = power*np.ones((num_lamps, 1))\n",
    "    else:\n",
    "        vt_p = power\n",
    "    # illum = {I_k} k = 1, ..., n vetor de tamanho n que corresponde ao iluminação de cada k-patch\n",
    "    illum = illumCoeff @ vt_p\n",
    "    # a função retorna a iluminação do patch mais iluminado\n",
    "    return np.max(np.abs(np.log(illum/b)))\n"
   ]
  },
  {
   "cell_type": "markdown",
   "id": "e5f1bacd",
   "metadata": {},
   "source": [
    "## Formulação 1: Busca Linear\n",
    "Valor de p constante, identificar qual o valor de p para qual minimiza a função objetivo."
   ]
  },
  {
   "cell_type": "code",
   "execution_count": 4,
   "id": "746b9a25",
   "metadata": {},
   "outputs": [],
   "source": [
    "# Configurando a espaço de busca para p\n",
    "step = 0.00001\n",
    "array = np.arange(1e-20, 1+step, step)"
   ]
  },
  {
   "cell_type": "code",
   "execution_count": 5,
   "id": "8b0e82c3",
   "metadata": {},
   "outputs": [],
   "source": [
    "# Avaliando o valor da função:\n",
    "f0 = np.array([obj_function(p, illumCoeff, b) for p in array])"
   ]
  },
  {
   "cell_type": "code",
   "execution_count": 6,
   "id": "b4d48bcb",
   "metadata": {},
   "outputs": [
    {
     "data": {
      "image/png": "[encoded data removed]",
      "text/plain": [
       "<Figure size 600x400 with 1 Axes>"
      ]
     },
     "metadata": {
      "needs_background": "light"
     },
     "output_type": "display_data"
    }
   ],
   "source": [
    "#plotanto a curva caracteristica\n",
    "fig1, ax = plt.subplots(figsize=(6, 4), dpi=100)\n",
    "ax.plot(array,f0);\n",
    "ax.grid()\n",
    "ax.set_title('Gráfico das iterações em p')\n",
    "ax.set_xlabel('p',fontsize=14)\n",
    "ax.set_ylabel('Função objetivo');\n"
   ]
  },
  {
   "cell_type": "code",
   "execution_count": 7,
   "id": "16000a78",
   "metadata": {},
   "outputs": [
    {
     "name": "stdout",
     "output_type": "stream",
     "text": [
      "Potencia obtida para cada lampada:\n",
      "[0.07985 0.07985 0.07985 0.07985]\n",
      "Função Objetivo ótima: 0.1702\n",
      "Iluminação alcançada: [0.00843522 0.01100453 0.01065768 0.00991766 0.01185474]\n"
     ]
    }
   ],
   "source": [
    "\n",
    "p_otimo = array[np.argmin(f0)]\n",
    "bl_p_otimo = p_otimo * np.ones((4, 1))\n",
    "bl_valor_otimo = obj_function(bl_p_otimo, illumCoeff, b)\n",
    "bl_ilummi_otima = illumCoeff @ bl_p_otimo\n",
    "\n",
    "\n",
    "\n",
    "\n",
    "print('Potencia obtida para cada lampada:')\n",
    "print(bl_p_otimo.ravel())\n",
    "print('Função Objetivo ótima: %.4f'%bl_valor_otimo)\n",
    "print(f'Iluminação alcançada: {bl_ilummi_otima.ravel()}')"
   ]
  },
  {
   "cell_type": "markdown",
   "id": "155c699a",
   "metadata": {},
   "source": [
    "## Formulação 2: Least Squares"
   ]
  },
  {
   "cell_type": "markdown",
   "id": "b6c562ab",
   "metadata": {},
   "source": [
    "Formulação dos least squares transforma o problema em:\n",
    "$$\\text{Minimize } \\sum_{k=1}^n \\boldsymbol||Ap-b|| \\\\\n",
    "\\text{subject to:}\\quad 0\\le p\\le pmax\n",
    "$$\n"
   ]
  },
  {
   "cell_type": "code",
   "execution_count": 8,
   "id": "f1762e8e",
   "metadata": {},
   "outputs": [
    {
     "data": {
      "text/plain": [
       "1.1587713285676025e-06"
      ]
     },
     "execution_count": 8,
     "metadata": {},
     "output_type": "execute_result"
    }
   ],
   "source": [
    "#Usando CVXPY para definir e calcular o resultado.\n",
    "p = cp.Variable([numLamps, 1])\n",
    "cost_func = cp.sum_squares(illumCoeff @ p - b)\n",
    "ls_problem = cp.Problem(cp.Minimize(cost_func))\n",
    "ls_problem.solve()\n"
   ]
  },
  {
   "cell_type": "code",
   "execution_count": 9,
   "id": "ba3a80a6",
   "metadata": {},
   "outputs": [
    {
     "name": "stdout",
     "output_type": "stream",
     "text": [
      "Potencia obtida para cada lampada:\n",
      "[0.14080514 0.11888099 0.         0.47087677]\n",
      "Função Objetivo ótima: 1.0580\n",
      "Iluminação alcançada: [0.01598076 0.0224947  0.0195139  0.02880654 0.02825822]\n"
     ]
    }
   ],
   "source": [
    "#rounding 𝑝𝑗 as 𝑝𝑗=max{0,min{𝑝𝑗,𝑝𝑚𝑎𝑥}}\n",
    "ls_p_otimo = np.maximum(p.value.ravel(),0)\n",
    "ls_valor_otimo = obj_function(ls_p_otimo, illumCoeff, b)\n",
    "ls_illum_obtida = illumCoeff @ ls_p_otimo\n",
    "\n",
    "\n",
    "print('Potencia obtida para cada lampada:')\n",
    "print(ls_p_otimo.ravel())\n",
    "print('Função Objetivo ótima: %.4f'%ls_valor_otimo)\n",
    "print(f'Iluminação alcançada: {ls_illum_obtida.ravel()}')"
   ]
  },
  {
   "cell_type": "markdown",
   "id": "0e4dafe7",
   "metadata": {},
   "source": [
    "## Formulação 3:  Unconstrained weighted least squares\n",
    "Esse problema se parece com o modelo de pesos da regressão Ridge, portanto será utilizado:</p>\n",
    "$$ f(p) = ||Ap-b||^2_2 + W||p-p_{max}||^2_2$$"
   ]
  },
  {
   "cell_type": "code",
   "execution_count": 10,
   "id": "1f8711f4",
   "metadata": {},
   "outputs": [],
   "source": [
    "p1 = cp.Variable((numLamps, 1))\n",
    "lambd = cp.Parameter(shape=(numLamps,1), nonneg=True,\n",
    "                        value=0*np.ones((numLamps, 1)))\n",
    "Ap = np.matmul(illumCoeff , p1)\n",
    "problem = cp.Problem(cp.Minimize(cp.sum_squares(illumCoeff @ p1 - b) + lambd.T@(p1-0.5*maxPwr)**2))\n",
    "\n",
    "problem.solve()\n",
    "\n",
    "for i in range(10000):\n",
    "    p_le_z = (p1.value <=0)\n",
    "    p_ge_maxpwr = (p1.value >=maxPwr)\n",
    "    for j in range(4):\n",
    "        if p_le_z[j] == True:\n",
    "            lambd.value[j] *= 1.01\n",
    "            if lambd.value[j]==0: lambd.value[j]+=0.000001 \n",
    "        if p_ge_maxpwr[j] == True:\n",
    "            lambd.value[j] /= 1.01\n",
    "    problem.solve()\n",
    "\n",
    "wls_p_otimo = p1.value.ravel()\n",
    "wls_valor_otimo = obj_function(wls_p_otimo, illumCoeff, b)\n",
    "wls_illum_obtida = illumCoeff @ wls_p_otimo"
   ]
  },
  {
   "cell_type": "code",
   "execution_count": 11,
   "id": "60bec3d5",
   "metadata": {},
   "outputs": [
    {
     "name": "stdout",
     "output_type": "stream",
     "text": [
      "Potencia obtida para cada lampada:\n",
      "[0.19075494 0.00489872 0.00139609 0.15991685]\n",
      "Função Objetivo ótima: 0.0934\n",
      "Iluminação alcançada: [0.00979705 0.01032809 0.00939468 0.0093064  0.01097866]\n"
     ]
    }
   ],
   "source": [
    "print('Potencia obtida para cada lampada:')\n",
    "print(wls_p_otimo.ravel())\n",
    "print('Função Objetivo ótima: %.4f'%wls_valor_otimo)\n",
    "print(f'Iluminação alcançada: {wls_illum_obtida.ravel()}')"
   ]
  },
  {
   "cell_type": "markdown",
   "id": "96fd6e1d",
   "metadata": {},
   "source": [
    "## Formulação 4: linear programming:\n",
    "O problema consiste em linearizar a função da seguinte forma:\n",
    "$$\n",
    "\\begin{align*}\n",
    "    & \\min. \\underset{k=1, 2, \\ldots, n}{\\max}\\vert I_k - I_{des}\\vert \\\\\n",
    "    \\text{s. t.}\\quad & 0 \\leq p_j \\leq p_{max}, j = 1, 2, \\ldots, m.\n",
    "\\end{align*}\n",
    "$$\n",
    "Sabemos que a função norm_inf é exatamente o que é pedido na formulação, portanto, o problema quando modelado se torna:"
   ]
  },
  {
   "cell_type": "code",
   "execution_count": 23,
   "id": "87010bda",
   "metadata": {},
   "outputs": [],
   "source": [
    "p = cp.Variable((numLamps, 1))\n",
    "cost_func = cp.norm_inf(illumCoeff @ p - b)\n",
    "lp_problem = cp.Problem(cp.Minimize(cost_func), [p >= 0, p <= maxPwr ])\n",
    "lp_problem.solve()\n",
    "lp_p_otimo = p.value\n",
    "lp_valor_otimo = obj_function(lp_p_otimo, illumCoeff, b)\n",
    "\n",
    "lp_ilummi_otima = illumCoeff @ lp_p_otimo"
   ]
  },
  {
   "cell_type": "code",
   "execution_count": 13,
   "id": "6ff6a1b2",
   "metadata": {},
   "outputs": [
    {
     "name": "stdout",
     "output_type": "stream",
     "text": [
      "Potencia obtida para cada lampada:\n",
      "[1.65128266e-01 1.89139029e-02 1.32091372e-08 1.55957722e-01]\n",
      "Função Objetivo ótima: 0.0008\n",
      "Iluminação alcançada: [0.00922453 0.01008397 0.00922453 0.00922453 0.01077547]\n"
     ]
    }
   ],
   "source": [
    "\n",
    "print('Potencia obtida para cada lampada:')\n",
    "print(lp_p_otimo.ravel())\n",
    "print('Função Objetivo ótima: %.4f'%lp_valor_otimo)\n",
    "print(f'Iluminação alcançada: {lp_ilummi_otima.ravel()}')"
   ]
  },
  {
   "cell_type": "markdown",
   "id": "a934edbc",
   "metadata": {},
   "source": [
    "## Formulação convexa:\n",
    "Utilizando a proposição feita pelo enunciado, temos o seguinte problema:\n",
    "$$\n",
    "\\begin{align*}\n",
    "    & \\min. \\underset{k=1, 2, \\ldots, n}{\\max}h(I_k/I_{des}) \\\\\n",
    "    \\text{s. t.}\\quad & 0 \\leq p_j \\leq p_{max}, j = 1, 2, \\ldots, m,\n",
    "\\end{align*}\n",
    "$$\n",
    "aonde $h(u) = \\max\\{u, 1/u\\}$.</p>\n",
    "Portanto sua formulação codificada seria:"
   ]
  },
  {
   "cell_type": "code",
   "execution_count": 21,
   "id": "204854da",
   "metadata": {},
   "outputs": [],
   "source": [
    "#Definindo h(u), sabemos que h(u) é convexa pois o maximo de duas funções convexas é convexo\n",
    "def h(u):\n",
    "    return cp.maximum(u, cp.inv_pos(u))\n",
    "\n",
    "p = cp.Variable((numLamps, 1))\n",
    "func = cp.max(h(illumCoeff @ p / b))\n",
    "problem = cp.Problem(cp.Minimize(func), [p >= 0, p <= maxPwr])\n",
    "\n",
    "problem.solve()\n",
    "\n",
    "\n",
    "\n",
    "cv_p_otimo = p.value\n",
    "cv_valor_otimo = obj_function(cv_p_otimo, illumCoeff, b)\n",
    "cv_ilummi_otima = illumCoeff @ cv_p_otimo"
   ]
  },
  {
   "cell_type": "code",
   "execution_count": 22,
   "id": "a665ff9e",
   "metadata": {},
   "outputs": [
    {
     "name": "stdout",
     "output_type": "stream",
     "text": [
      "Potencia obtida para cada lampada:\n",
      "[1.65627010e-01 1.89710343e-02 1.70719382e-10 1.56428783e-01]\n",
      "Função Objetivo ótima: 0.0777\n",
      "Iluminação alcançada: [0.0092524  0.01011443 0.0092524  0.0092524  0.01080801]\n"
     ]
    }
   ],
   "source": [
    "print('Potencia obtida para cada lampada:')\n",
    "print(cv_p_otimo.ravel())\n",
    "print('Função Objetivo ótima: %.4f'%cv_valor_otimo)\n",
    "print(f'Iluminação alcançada: {cv_ilummi_otima.ravel()}')"
   ]
  },
  {
   "cell_type": "markdown",
   "id": "c1a6c4ae",
   "metadata": {},
   "source": [
    "### Resultados:\n",
    "Reunindo todos os vetores de configurações de p podemos avaliar cada proposta:"
   ]
  },
  {
   "cell_type": "code",
   "execution_count": 24,
   "id": "f31c58ba",
   "metadata": {},
   "outputs": [],
   "source": [
    "#Vetores de solução:\n",
    "p_lamps = np.array([bl_p_otimo.ravel(), ls_p_otimo, wls_p_otimo, lp_p_otimo.ravel(), cv_p_otimo.ravel()])\n",
    "\n",
    "#Valores ótimos:\n",
    "v_otimo = [bl_valor_otimo, ls_valor_otimo, wls_valor_otimo, lp_valor_otimo, cv_valor_otimo]\n",
    "\n",
    "#iluminações otimas:\n",
    "illums = np.array([bl_ilummi_otima.ravel(), ls_illum_obtida, wls_illum_obtida, lp_ilummi_otima.ravel(), cv_ilummi_otima.ravel()])"
   ]
  },
  {
   "cell_type": "code",
   "execution_count": 25,
   "id": "fb937218",
   "metadata": {},
   "outputs": [],
   "source": [
    "optima = pd.DataFrame(p_lamps, \n",
    "             index=['Busca Linear', 'Least Squares', 'Weighted LS', 'Linear Program','Convex'],\n",
    "             columns=[f'$p^*_{i+1}$' for i in range(numLamps)])\n",
    "\n",
    "results = pd.DataFrame(illums, \n",
    "             index=['Busca Linear', 'Least Squares', 'Weighted LS', 'Linear Program','Convex'],\n",
    "             columns=[f'$I_{i+1}$' for i in range(numPatches)])\n",
    "results.insert(numPatches, '$f_{0}(p^*)$', v_otimo)"
   ]
  },
  {
   "cell_type": "code",
   "execution_count": 27,
   "id": "f5c69974",
   "metadata": {},
   "outputs": [
    {
     "name": "stdout",
     "output_type": "stream",
     "text": [
      "\n",
      "Valores otimos para a potencia das lampadas:\n"
     ]
    },
    {
     "data": {
      "text/html": [
       "<div>\n",
       "<style scoped>\n",
       "    .dataframe tbody tr th:only-of-type {\n",
       "        vertical-align: middle;\n",
       "    }\n",
       "\n",
       "    .dataframe tbody tr th {\n",
       "        vertical-align: top;\n",
       "    }\n",
       "\n",
       "    .dataframe thead th {\n",
       "        text-align: right;\n",
       "    }\n",
       "</style>\n",
       "<table border=\"1\" class=\"dataframe\">\n",
       "  <thead>\n",
       "    <tr style=\"text-align: right;\">\n",
       "      <th></th>\n",
       "      <th>$p^*_1$</th>\n",
       "      <th>$p^*_2$</th>\n",
       "      <th>$p^*_3$</th>\n",
       "      <th>$p^*_4$</th>\n",
       "    </tr>\n",
       "  </thead>\n",
       "  <tbody>\n",
       "    <tr>\n",
       "      <th>Busca Linear</th>\n",
       "      <td>0.079850</td>\n",
       "      <td>0.079850</td>\n",
       "      <td>7.985000e-02</td>\n",
       "      <td>0.079850</td>\n",
       "    </tr>\n",
       "    <tr>\n",
       "      <th>Least Squares</th>\n",
       "      <td>0.140805</td>\n",
       "      <td>0.118881</td>\n",
       "      <td>0.000000e+00</td>\n",
       "      <td>0.470877</td>\n",
       "    </tr>\n",
       "    <tr>\n",
       "      <th>Weighted LS</th>\n",
       "      <td>0.190755</td>\n",
       "      <td>0.004899</td>\n",
       "      <td>1.396093e-03</td>\n",
       "      <td>0.159917</td>\n",
       "    </tr>\n",
       "    <tr>\n",
       "      <th>Linear Program</th>\n",
       "      <td>0.165128</td>\n",
       "      <td>0.018914</td>\n",
       "      <td>1.320914e-08</td>\n",
       "      <td>0.155958</td>\n",
       "    </tr>\n",
       "    <tr>\n",
       "      <th>Convex</th>\n",
       "      <td>0.165627</td>\n",
       "      <td>0.018971</td>\n",
       "      <td>1.707194e-10</td>\n",
       "      <td>0.156429</td>\n",
       "    </tr>\n",
       "  </tbody>\n",
       "</table>\n",
       "</div>"
      ],
      "text/plain": [
       "                 $p^*_1$   $p^*_2$       $p^*_3$   $p^*_4$\n",
       "Busca Linear    0.079850  0.079850  7.985000e-02  0.079850\n",
       "Least Squares   0.140805  0.118881  0.000000e+00  0.470877\n",
       "Weighted LS     0.190755  0.004899  1.396093e-03  0.159917\n",
       "Linear Program  0.165128  0.018914  1.320914e-08  0.155958\n",
       "Convex          0.165627  0.018971  1.707194e-10  0.156429"
      ]
     },
     "metadata": {},
     "output_type": "display_data"
    },
    {
     "name": "stdout",
     "output_type": "stream",
     "text": [
      "Iluminação otima para todas as formulações:\n"
     ]
    },
    {
     "data": {
      "text/html": [
       "<div>\n",
       "<style scoped>\n",
       "    .dataframe tbody tr th:only-of-type {\n",
       "        vertical-align: middle;\n",
       "    }\n",
       "\n",
       "    .dataframe tbody tr th {\n",
       "        vertical-align: top;\n",
       "    }\n",
       "\n",
       "    .dataframe thead th {\n",
       "        text-align: right;\n",
       "    }\n",
       "</style>\n",
       "<table border=\"1\" class=\"dataframe\">\n",
       "  <thead>\n",
       "    <tr style=\"text-align: right;\">\n",
       "      <th></th>\n",
       "      <th>$I_1$</th>\n",
       "      <th>$I_2$</th>\n",
       "      <th>$I_3$</th>\n",
       "      <th>$I_4$</th>\n",
       "      <th>$I_5$</th>\n",
       "      <th>$f_{0}(p^*)$</th>\n",
       "    </tr>\n",
       "  </thead>\n",
       "  <tbody>\n",
       "    <tr>\n",
       "      <th>Busca Linear</th>\n",
       "      <td>0.008435</td>\n",
       "      <td>0.011005</td>\n",
       "      <td>0.010658</td>\n",
       "      <td>0.009918</td>\n",
       "      <td>0.011855</td>\n",
       "      <td>0.170169</td>\n",
       "    </tr>\n",
       "    <tr>\n",
       "      <th>Least Squares</th>\n",
       "      <td>0.015981</td>\n",
       "      <td>0.022495</td>\n",
       "      <td>0.019514</td>\n",
       "      <td>0.028807</td>\n",
       "      <td>0.028258</td>\n",
       "      <td>1.058017</td>\n",
       "    </tr>\n",
       "    <tr>\n",
       "      <th>Weighted LS</th>\n",
       "      <td>0.009797</td>\n",
       "      <td>0.010328</td>\n",
       "      <td>0.009395</td>\n",
       "      <td>0.009306</td>\n",
       "      <td>0.010979</td>\n",
       "      <td>0.093368</td>\n",
       "    </tr>\n",
       "    <tr>\n",
       "      <th>Linear Program</th>\n",
       "      <td>0.009225</td>\n",
       "      <td>0.010084</td>\n",
       "      <td>0.009225</td>\n",
       "      <td>0.009225</td>\n",
       "      <td>0.010775</td>\n",
       "      <td>0.080718</td>\n",
       "    </tr>\n",
       "    <tr>\n",
       "      <th>Convex</th>\n",
       "      <td>0.009252</td>\n",
       "      <td>0.010114</td>\n",
       "      <td>0.009252</td>\n",
       "      <td>0.009252</td>\n",
       "      <td>0.010808</td>\n",
       "      <td>0.077703</td>\n",
       "    </tr>\n",
       "  </tbody>\n",
       "</table>\n",
       "</div>"
      ],
      "text/plain": [
       "                   $I_1$     $I_2$     $I_3$     $I_4$     $I_5$  $f_{0}(p^*)$\n",
       "Busca Linear    0.008435  0.011005  0.010658  0.009918  0.011855      0.170169\n",
       "Least Squares   0.015981  0.022495  0.019514  0.028807  0.028258      1.058017\n",
       "Weighted LS     0.009797  0.010328  0.009395  0.009306  0.010979      0.093368\n",
       "Linear Program  0.009225  0.010084  0.009225  0.009225  0.010775      0.080718\n",
       "Convex          0.009252  0.010114  0.009252  0.009252  0.010808      0.077703"
      ]
     },
     "metadata": {},
     "output_type": "display_data"
    }
   ],
   "source": [
    "print('\\nValores otimos para a potencia das lampadas:')\n",
    "display(optima)\n",
    "print('Iluminação otima para todas as formulações:')\n",
    "display(results)"
   ]
  },
  {
   "cell_type": "code",
   "execution_count": null,
   "id": "3d1aeb1a",
   "metadata": {},
   "outputs": [],
   "source": []
  }
 ],
 "metadata": {
  "kernelspec": {
   "display_name": "Python 3 (ipykernel)",
   "language": "python",
   "name": "python3"
  },
  "language_info": {
   "codemirror_mode": {
    "name": "ipython",
    "version": 3
   },
   "file_extension": ".py",
   "mimetype": "text/x-python",
   "name": "python",
   "nbconvert_exporter": "python",
   "pygments_lexer": "ipython3",
   "version": "3.9.12"
  }
 },
 "nbformat": 4,
 "nbformat_minor": 5
}
